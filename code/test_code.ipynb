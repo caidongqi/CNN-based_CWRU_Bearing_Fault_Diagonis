{
 "cells": [
  {
   "cell_type": "markdown",
   "metadata": {},
   "source": [
    "# 测试数据预处理+模型预测 "
   ]
  },
  {
   "cell_type": "markdown",
   "metadata": {},
   "source": [
    "### 引入相关库文件"
   ]
  },
  {
   "cell_type": "code",
   "execution_count": 1,
   "metadata": {},
   "outputs": [
    {
     "name": "stderr",
     "output_type": "stream",
     "text": [
      "Using TensorFlow backend.\n",
      "D:\\App_installed\\Anaconda\\envs\\tensorflow\\lib\\site-packages\\tensorflow\\python\\framework\\dtypes.py:516: FutureWarning: Passing (type, 1) or '1type' as a synonym of type is deprecated; in a future version of numpy, it will be understood as (type, (1,)) / '(1,)type'.\n",
      "  _np_qint8 = np.dtype([(\"qint8\", np.int8, 1)])\n",
      "D:\\App_installed\\Anaconda\\envs\\tensorflow\\lib\\site-packages\\tensorflow\\python\\framework\\dtypes.py:517: FutureWarning: Passing (type, 1) or '1type' as a synonym of type is deprecated; in a future version of numpy, it will be understood as (type, (1,)) / '(1,)type'.\n",
      "  _np_quint8 = np.dtype([(\"quint8\", np.uint8, 1)])\n",
      "D:\\App_installed\\Anaconda\\envs\\tensorflow\\lib\\site-packages\\tensorflow\\python\\framework\\dtypes.py:518: FutureWarning: Passing (type, 1) or '1type' as a synonym of type is deprecated; in a future version of numpy, it will be understood as (type, (1,)) / '(1,)type'.\n",
      "  _np_qint16 = np.dtype([(\"qint16\", np.int16, 1)])\n",
      "D:\\App_installed\\Anaconda\\envs\\tensorflow\\lib\\site-packages\\tensorflow\\python\\framework\\dtypes.py:519: FutureWarning: Passing (type, 1) or '1type' as a synonym of type is deprecated; in a future version of numpy, it will be understood as (type, (1,)) / '(1,)type'.\n",
      "  _np_quint16 = np.dtype([(\"quint16\", np.uint16, 1)])\n",
      "D:\\App_installed\\Anaconda\\envs\\tensorflow\\lib\\site-packages\\tensorflow\\python\\framework\\dtypes.py:520: FutureWarning: Passing (type, 1) or '1type' as a synonym of type is deprecated; in a future version of numpy, it will be understood as (type, (1,)) / '(1,)type'.\n",
      "  _np_qint32 = np.dtype([(\"qint32\", np.int32, 1)])\n",
      "D:\\App_installed\\Anaconda\\envs\\tensorflow\\lib\\site-packages\\tensorflow\\python\\framework\\dtypes.py:525: FutureWarning: Passing (type, 1) or '1type' as a synonym of type is deprecated; in a future version of numpy, it will be understood as (type, (1,)) / '(1,)type'.\n",
      "  np_resource = np.dtype([(\"resource\", np.ubyte, 1)])\n",
      "D:\\App_installed\\Anaconda\\envs\\tensorflow\\lib\\site-packages\\tensorboard\\compat\\tensorflow_stub\\dtypes.py:541: FutureWarning: Passing (type, 1) or '1type' as a synonym of type is deprecated; in a future version of numpy, it will be understood as (type, (1,)) / '(1,)type'.\n",
      "  _np_qint8 = np.dtype([(\"qint8\", np.int8, 1)])\n",
      "D:\\App_installed\\Anaconda\\envs\\tensorflow\\lib\\site-packages\\tensorboard\\compat\\tensorflow_stub\\dtypes.py:542: FutureWarning: Passing (type, 1) or '1type' as a synonym of type is deprecated; in a future version of numpy, it will be understood as (type, (1,)) / '(1,)type'.\n",
      "  _np_quint8 = np.dtype([(\"quint8\", np.uint8, 1)])\n",
      "D:\\App_installed\\Anaconda\\envs\\tensorflow\\lib\\site-packages\\tensorboard\\compat\\tensorflow_stub\\dtypes.py:543: FutureWarning: Passing (type, 1) or '1type' as a synonym of type is deprecated; in a future version of numpy, it will be understood as (type, (1,)) / '(1,)type'.\n",
      "  _np_qint16 = np.dtype([(\"qint16\", np.int16, 1)])\n",
      "D:\\App_installed\\Anaconda\\envs\\tensorflow\\lib\\site-packages\\tensorboard\\compat\\tensorflow_stub\\dtypes.py:544: FutureWarning: Passing (type, 1) or '1type' as a synonym of type is deprecated; in a future version of numpy, it will be understood as (type, (1,)) / '(1,)type'.\n",
      "  _np_quint16 = np.dtype([(\"quint16\", np.uint16, 1)])\n",
      "D:\\App_installed\\Anaconda\\envs\\tensorflow\\lib\\site-packages\\tensorboard\\compat\\tensorflow_stub\\dtypes.py:545: FutureWarning: Passing (type, 1) or '1type' as a synonym of type is deprecated; in a future version of numpy, it will be understood as (type, (1,)) / '(1,)type'.\n",
      "  _np_qint32 = np.dtype([(\"qint32\", np.int32, 1)])\n",
      "D:\\App_installed\\Anaconda\\envs\\tensorflow\\lib\\site-packages\\tensorboard\\compat\\tensorflow_stub\\dtypes.py:550: FutureWarning: Passing (type, 1) or '1type' as a synonym of type is deprecated; in a future version of numpy, it will be understood as (type, (1,)) / '(1,)type'.\n",
      "  np_resource = np.dtype([(\"resource\", np.ubyte, 1)])\n"
     ]
    }
   ],
   "source": [
    "import numpy as np\n",
    "import os\n",
    "import pandas as pd  # 读取csv储存为字典\n",
    "from collections import defaultdict\n",
    "from sklearn import preprocessing  # 0-1编码\n",
    "from keras.models import load_model"
   ]
  },
  {
   "cell_type": "markdown",
   "metadata": {},
   "source": [
    "### 首先定义数据预处理部分的函数"
   ]
  },
  {
   "cell_type": "markdown",
   "metadata": {},
   "source": [
    "####   读取数据"
   ]
  },
  {
   "cell_type": "code",
   "execution_count": 2,
   "metadata": {},
   "outputs": [],
   "source": [
    "    def capture(original_path):\n",
    "        \n",
    "        \"\"\"读取csv文件，返回字典\n",
    "\n",
    "        :param original_path: 读取路径\n",
    "        :return: 数据字典\n",
    "        \"\"\"\n",
    "        files = {}\n",
    "        for i in filenames:\n",
    "            # 文件路径\n",
    "            file_path = os.path.join(original_path, i)\n",
    "            with open(file_path) as f:\n",
    "                reader = pd.read_csv(f)\n",
    "                v = reader.loc[:, 'DE_time'].values\n",
    "                files.update({i: v})\n",
    "        return files"
   ]
  },
  {
   "cell_type": "markdown",
   "metadata": {},
   "source": [
    "#### 将测试集窗口化，因为是测试集，故而设置slice_rate为0，即只对数据进行加窗处理，而不进行划分。"
   ]
  },
  {
   "cell_type": "code",
   "execution_count": 3,
   "metadata": {},
   "outputs": [],
   "source": [
    "def slice_enc(data,slice_rate=0): \n",
    "        \"\"\"将数据切分为前面多少比例，后面多少比例.\n",
    "        :param data: 单挑数据\n",
    "        :param slice_rate: 验证集以及测试集所占的比例\n",
    "        :return: 切分好的数据\n",
    "        \"\"\"\n",
    "        length=1024\n",
    "        enc=True\n",
    "        enc_step=14\n",
    "        keys = data.keys()\n",
    "        Train_Samples = {}\n",
    "        Test_Samples = {}\n",
    "        for i in keys:\n",
    "            number = len(data[i])//14\n",
    "            slice_data = data[i]\n",
    "            all_lenght = len(slice_data)\n",
    "            end_index = int(all_lenght * (1 - slice_rate))\n",
    "            samp_train = int(number * (1 - slice_rate))  # 700\n",
    "            Train_sample = []\n",
    "            Test_Sample = []\n",
    "            if enc:\n",
    "                enc_time = length // enc_step\n",
    "                samp_step = 0  # 用来计数Train采样次数\n",
    "                for j in range(samp_train):\n",
    "#                     print(\"end_index\"+str(end_index))\n",
    "#                     print('length'+str(length))\n",
    "                    random_start = np.random.randint(low=0, high=(end_index - 2 * length))\n",
    "                    label = 0\n",
    "                    for h in range(enc_time):\n",
    "                        samp_step += 1\n",
    "                        random_start += enc_step\n",
    "                        sample = slice_data[random_start: random_start + length]\n",
    "                        Train_sample.append(sample)\n",
    "                        if samp_step == samp_train:\n",
    "                            label = 1\n",
    "                            break\n",
    "                    if label:\n",
    "                        break\n",
    "            else:\n",
    "                for j in range(samp_train):\n",
    "                    random_start = np.random.randint(low=0, high=(end_index - length))\n",
    "                    sample = slice_data[random_start:random_start + length]\n",
    "                    Train_sample.append(sample)\n",
    "\n",
    "            # 抓取测试数据\n",
    "            for h in range(number - samp_train):\n",
    "                random_start = np.random.randint(low=end_index, high=(all_lenght - length))\n",
    "                sample = slice_data[random_start:random_start + length]\n",
    "                Test_Sample.append(sample)\n",
    "            Train_Samples[i] = Train_sample\n",
    "            Test_Samples[i] = Test_Sample\n",
    "        return Train_Samples, Test_Samples"
   ]
  },
  {
   "cell_type": "markdown",
   "metadata": {},
   "source": [
    "#### 将数据进行归一化，加快处理速度，且可以使得Relu激活函数变得更有效"
   ]
  },
  {
   "cell_type": "code",
   "execution_count": 4,
   "metadata": {},
   "outputs": [],
   "source": [
    "    def scalar_stand(Train_X, Test_X):\n",
    "        # 用训练集标准差标准化训练集以及测试集\n",
    "        scalar = preprocessing.StandardScaler().fit(Train_X)\n",
    "        Train_X = scalar.transform(Train_X)\n",
    "        Test_X = scalar.transform(Test_X)\n",
    "        return Train_X, Test_X"
   ]
  },
  {
   "cell_type": "markdown",
   "metadata": {},
   "source": [
    "#### 以下代码是在训练模型的时候用来打标签，此处是为了得到数据对应的文件名。"
   ]
  },
  {
   "cell_type": "code",
   "execution_count": 5,
   "metadata": {},
   "outputs": [],
   "source": [
    "    # 仅抽样完成，打标签\n",
    "    def add_labels(train_test):\n",
    "        X = []\n",
    "        Y = []\n",
    "        label = 0\n",
    "        for i in filenames:\n",
    "            if 'N' in i:\n",
    "                label = 0\n",
    "            elif 'B' in i:\n",
    "                label = 1\n",
    "            elif 'IR' in i:\n",
    "                label = 3\n",
    "            elif 'OR' in i:\n",
    "                label = 2\n",
    "            x = train_test[i]\n",
    "            X += x\n",
    "            lenx = len(x)\n",
    "            Y += [i] * lenx\n",
    "        return X, Y"
   ]
  },
  {
   "cell_type": "markdown",
   "metadata": {},
   "source": [
    "## 下面是需要根据本地环境进行修改的地方"
   ]
  },
  {
   "cell_type": "code",
   "execution_count": 6,
   "metadata": {},
   "outputs": [],
   "source": [
    "params = { }\n",
    "\n",
    "params['model'] = r'C:\\Users\\86132\\Desktop\\cwru.model' ## 此处改为模型的完整路径\n",
    "\n",
    "\n",
    "original_path= r'C:\\Users\\86132\\Desktop\\移动网课设ipython\\data' ## 此处需要改为存放142个测试文件的上级文件夹的完整路径\n"
   ]
  },
  {
   "cell_type": "markdown",
   "metadata": {},
   "source": [
    "### 进行数据预处理"
   ]
  },
  {
   "cell_type": "code",
   "execution_count": 7,
   "metadata": {},
   "outputs": [],
   "source": [
    "filenames = os.listdir(original_path)\n",
    "data = capture(original_path)\n",
    "\n",
    "# 获取数据\n",
    "train, test = slice_enc(data)\n",
    "\n",
    "# 为训练集制作标签，返回X，Y，其中Y是X所在的文件的文件名\n",
    "Train_X, Train_Y = add_labels(train)\n",
    "\n",
    "#获取对应的文件名，便于后续的文件格式输出\n",
    "file_name = []\n",
    "for i in range(len(Train_Y)):\n",
    "    file_name.append(os.path.splitext(Train_Y[i])[0])\n",
    "    \n",
    "scalar = preprocessing.StandardScaler().fit(Train_X)\n",
    "Train_X = scalar.transform(Train_X)\n",
    "\n",
    "Train_X = Train_X.reshape(35950, 1024,1)"
   ]
  },
  {
   "cell_type": "markdown",
   "metadata": {},
   "source": [
    "### 调用模型并得出预测结果"
   ]
  },
  {
   "cell_type": "code",
   "execution_count": 8,
   "metadata": {},
   "outputs": [
    {
     "name": "stdout",
     "output_type": "stream",
     "text": [
      "WARNING:tensorflow:From D:\\App_installed\\Anaconda\\envs\\tensorflow\\lib\\site-packages\\keras\\backend\\tensorflow_backend.py:4070: The name tf.nn.max_pool is deprecated. Please use tf.nn.max_pool2d instead.\n",
      "\n",
      "WARNING:tensorflow:From D:\\App_installed\\Anaconda\\envs\\tensorflow\\lib\\site-packages\\keras\\backend\\tensorflow_backend.py:422: The name tf.global_variables is deprecated. Please use tf.compat.v1.global_variables instead.\n",
      "\n",
      "预测成功!\n"
     ]
    }
   ],
   "source": [
    "model_load = load_model(params['model'])\n",
    "pre_x = model_load.predict(Train_X,verbose=0)\n",
    "predict_label = np.argmax(pre_x, axis=1)\n",
    "print(\"预测成功!\")"
   ]
  },
  {
   "cell_type": "markdown",
   "metadata": {},
   "source": [
    "### 存入csv文件中 （filename按照二进制排序，故输出文件最后是Test99.csv，100多的在中间）"
   ]
  },
  {
   "cell_type": "code",
   "execution_count": 9,
   "metadata": {},
   "outputs": [
    {
     "name": "stdout",
     "output_type": "stream",
     "text": [
      "保存成功！\n"
     ]
    }
   ],
   "source": [
    "df = pd.DataFrame()\n",
    "df['label']=predict_label\n",
    "df['filename']=file_name\n",
    "df.to_csv(\"测试3.csv\",index = 0)   \n",
    "print(\"保存成功！\")"
   ]
  }
 ],
 "metadata": {
  "kernelspec": {
   "display_name": "Python 3",
   "language": "python",
   "name": "python3"
  },
  "language_info": {
   "codemirror_mode": {
    "name": "ipython",
    "version": 3
   },
   "file_extension": ".py",
   "mimetype": "text/x-python",
   "name": "python",
   "nbconvert_exporter": "python",
   "pygments_lexer": "ipython3",
   "version": "3.7.0"
  }
 },
 "nbformat": 4,
 "nbformat_minor": 2
}
